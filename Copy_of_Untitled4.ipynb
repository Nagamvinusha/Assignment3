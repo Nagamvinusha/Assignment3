{
  "nbformat": 4,
  "nbformat_minor": 0,
  "metadata": {
    "colab": {
      "name": "Copy of Untitled4.ipynb",
      "provenance": [],
      "authorship_tag": "ABX9TyPwOunIO5GznbbfX6xo63t+",
      "include_colab_link": true
    },
    "kernelspec": {
      "name": "python3",
      "display_name": "Python 3"
    }
  },
  "cells": [
    {
      "cell_type": "markdown",
      "metadata": {
        "id": "view-in-github",
        "colab_type": "text"
      },
      "source": [
        "<a href=\"https://colab.research.google.com/github/Nagamvinusha/Assignment3/blob/master/Copy_of_Untitled4.ipynb\" target=\"_parent\"><img src=\"https://colab.research.google.com/assets/colab-badge.svg\" alt=\"Open In Colab\"/></a>"
      ]
    },
    {
      "cell_type": "code",
      "metadata": {
        "id": "kJsrQAinsZzO",
        "colab_type": "code",
        "colab": {
          "base_uri": "https://localhost:8080/",
          "height": 88
        },
        "outputId": "3304ff9c-9769-498c-b828-930859133cdd"
      },
      "source": [
        "#1:\n",
        "a=float(input(\"Enter first side of triangle : \"))\n",
        "b=float(input(\"Enter second side of triangle : \"))\n",
        "c=float(input(\"Enter third side of triangle : \"))  \n",
        "s = (a + b + c) / 2    \n",
        "Area = (s*(s-a)*(s-b)*(s-c)) ** 0.5\n",
        "print(\"Area of the triangle is \",Area)"
      ],
      "execution_count": null,
      "outputs": [
        {
          "output_type": "stream",
          "text": [
            "Enter first side of triangle : 5\n",
            "Enter second side of triangle : 6\n",
            "Enter third side of triangle : 7\n",
            "Area of the triangle is  14.696938456699069\n"
          ],
          "name": "stdout"
        }
      ]
    },
    {
      "cell_type": "code",
      "metadata": {
        "id": "mNEs5euZuo1Z",
        "colab_type": "code",
        "colab": {
          "base_uri": "https://localhost:8080/",
          "height": 52
        },
        "outputId": "38838774-1f99-482a-ebd4-84bd209ba2da"
      },
      "source": [
        "#2:\n",
        "string=input(\"Enter a string:\")\n",
        "if(string==string[::-1]):\n",
        "    print(string,\"is a palindrome\")\n",
        "else:\n",
        "    print(string,\"is not a palindrome\")"
      ],
      "execution_count": null,
      "outputs": [
        {
          "output_type": "stream",
          "text": [
            "Enter a string:refer\n",
            "refer is a palindrome\n"
          ],
          "name": "stdout"
        }
      ]
    },
    {
      "cell_type": "code",
      "metadata": {
        "id": "9T2KDiVcwtos",
        "colab_type": "code",
        "colab": {
          "base_uri": "https://localhost:8080/",
          "height": 52
        },
        "outputId": "bc463c1d-fc7f-4b51-f9ab-7cd736d08859"
      },
      "source": [
        "#3:\n",
        "Year=int(input(\"Please enter the year :\")) \n",
        "if Year%400==0:\n",
        "   print(Year,\"is a leap year\")\n",
        "elif Year%100==0:\n",
        "   print(Year,\"is not a leap year\")\n",
        "elif Year%4==0:\n",
        "   print(Year,\"is a leap year\") \n",
        "else:\n",
        "   print(Year,\"is not a leap year\")"
      ],
      "execution_count": null,
      "outputs": [
        {
          "output_type": "stream",
          "text": [
            "Please enter the year :2020\n",
            "2020 is a leap year\n"
          ],
          "name": "stdout"
        }
      ]
    },
    {
      "cell_type": "code",
      "metadata": {
        "id": "uBpPxQBzz375",
        "colab_type": "code",
        "colab": {
          "base_uri": "https://localhost:8080/",
          "height": 70
        },
        "outputId": "f266b0b5-2ba4-4e5d-e9d2-faf19954cf4f"
      },
      "source": [
        "#4:\n",
        "str1=input(\"Please Enter the string : \")\n",
        "str2=str1.replace(' ','-')\n",
        "print(str1)\n",
        "print(str2)\n"
      ],
      "execution_count": null,
      "outputs": [
        {
          "output_type": "stream",
          "text": [
            "Please Enter the string : This program converts spaces into hyphen\n",
            "This program converts spaces into hyphen\n",
            "This-program-converts-spaces-into-hyphen\n"
          ],
          "name": "stdout"
        }
      ]
    },
    {
      "cell_type": "code",
      "metadata": {
        "id": "lgd6g40bbXhC",
        "colab_type": "code",
        "colab": {
          "base_uri": "https://localhost:8080/",
          "height": 35
        },
        "outputId": "071e4749-34cd-400d-c6d1-a3be2adae543"
      },
      "source": [
        "#5:\n",
        "sortlist=[\"orange\",\"white\",\"red\",\"green\",\"cyan\",\"white\",\"pink\",\"magenta\"]\n",
        "sortlist.sort()\n",
        "print(sortlist)"
      ],
      "execution_count": null,
      "outputs": [
        {
          "output_type": "stream",
          "text": [
            "['cyan', 'green', 'magenta', 'orange', 'pink', 'red', 'white']\n"
          ],
          "name": "stdout"
        }
      ]
    },
    {
      "cell_type": "code",
      "metadata": {
        "id": "Z9DnlO9DhbrU",
        "colab_type": "code",
        "colab": {
          "base_uri": "https://localhost:8080/",
          "height": 52
        },
        "outputId": "279c19ef-00a3-450a-f7b6-097a6295a27a"
      },
      "source": [
        "#6:\n",
        "salary=int(input(\"Enter salary of a person :- \"))\n",
        "if salary<=250000:\n",
        "    print(\"no tax\")\n",
        "elif salary>250000 and salary<=500000:\n",
        "    Tax=salary*(5/100)\n",
        "    print(\"the tax is\",Tax)\n",
        "elif salary>500000 and salary<=750000:\n",
        "    Tax=salary*(10/100)\n",
        "    print(\"the tax is\",Tax)\n",
        "elif salary>750000 and salary<=1000000:\n",
        "    Tax=salary*(15/100)\n",
        "    print(\"the tax is\",Tax)\n",
        "elif salary>1000000 and salary<=1250000:\n",
        "    Tax=salary*(20/100)\n",
        "    print(\"the tax is\",Tax)\n",
        "elif salary>1250000 and salary<=1500000:\n",
        "    Tax=salary*(25/100)\n",
        "    print(\"the tax is\",Tax)\n",
        "elif salary>1500000:\n",
        "    Tax=salary*(30/100)\n",
        "    print(\"the tax is\",Tax)"
      ],
      "execution_count": null,
      "outputs": [
        {
          "output_type": "stream",
          "text": [
            "Enter salary of a person :- 400000\n",
            "the tax is 20000.0\n"
          ],
          "name": "stdout"
        }
      ]
    },
    {
      "cell_type": "code",
      "metadata": {
        "id": "v_FR4M9UkmX8",
        "colab_type": "code",
        "colab": {
          "base_uri": "https://localhost:8080/",
          "height": 88
        },
        "outputId": "d14d76a7-2e3b-4058-95c5-9cb54e9eabb1"
      },
      "source": [
        "#7:\n",
        "A=(input(\"Enter first integer :-\"))\n",
        "B=(input(\"Enter second integer :-\"))\n",
        "C=(input(\"Enter third integer :-\"))\n",
        "print(A+B+C)"
      ],
      "execution_count": null,
      "outputs": [
        {
          "output_type": "stream",
          "text": [
            "Enter first integer :-11\n",
            "Enter second integer :-33\n",
            "Enter third integer :-50\n",
            "113350\n"
          ],
          "name": "stdout"
        }
      ]
    },
    {
      "cell_type": "code",
      "metadata": {
        "id": "LeBUDfpUi8-y",
        "colab_type": "code",
        "colab": {
          "base_uri": "https://localhost:8080/",
          "height": 106
        },
        "outputId": "55007662-e547-43ce-e296-d84e0a03c747"
      },
      "source": [
        "#8:\n",
        "D=int(input(\"Enter days :- \"))\n",
        "H=int(input(\"Enter hours :- \"))\n",
        "M=int(input(\"Enter minutes :- \"))\n",
        "S=int(input(\"Enter seconds :- \"))\n",
        "ts=D*24*60*60+H*60*60+M*60+S\n",
        "print(\"Total number of seconds = \",ts)"
      ],
      "execution_count": null,
      "outputs": [
        {
          "output_type": "stream",
          "text": [
            "Enter days :- 2\n",
            "Enter hours :- 2\n",
            "Enter minutes :- 2\n",
            "Enter seconds :- 2\n",
            "Total number of seconds =  180122\n"
          ],
          "name": "stdout"
        }
      ]
    },
    {
      "cell_type": "code",
      "metadata": {
        "id": "ML352vPvmNuw",
        "colab_type": "code",
        "colab": {
          "base_uri": "https://localhost:8080/",
          "height": 106
        },
        "outputId": "2f53cb21-01df-4932-e8eb-a4c91398d671"
      },
      "source": [
        "#9:\n",
        "l=int(input(\"Enter 1st integer:-\"))\n",
        "m=int(input(\"Enter 2nd integer:-\"))\n",
        "n=int(input(\"Enter 3rd integer:-\"))\n",
        "print(\"max number is:-\",max(l,m,n))\n",
        "print(\"min number is:-\",min(l,m,n))"
      ],
      "execution_count": null,
      "outputs": [
        {
          "output_type": "stream",
          "text": [
            "Enter 1st integer:-6\n",
            "Enter 2nd integer:-5\n",
            "Enter 3rd integer:-4\n",
            "max number is:- 6\n",
            "min number is:- 4\n"
          ],
          "name": "stdout"
        }
      ]
    },
    {
      "cell_type": "code",
      "metadata": {
        "id": "LAFd-qOtpWXU",
        "colab_type": "code",
        "colab": {
          "base_uri": "https://localhost:8080/",
          "height": 88
        },
        "outputId": "46be130e-b1ef-4d7c-cc95-c5bbcee01d4b"
      },
      "source": [
        "#10:\n",
        "year=int(input(\"Enter year YYYY:-\"))\n",
        "month=int(input(\"Enter month MM:-\"))\n",
        "date=int(input(\"Enter date DD:-\"))\n",
        "0<month<13\n",
        "0<date<32\n",
        "if date==31 and month==12 :\n",
        "   print (\"YYYY-MM-DD : {}-01-01\".format(year+1))\n",
        "elif (date==31 and (month==1 or 3 or 5 or 7 or 8 or 10)) :\n",
        "   print (\"YYYY-MM-DD : {}-{}-01\".format(year,month+1))\n",
        "elif ( date==30 and (month==4 or 6 or 9 or 11)) :\n",
        "   print(\"YYYY-MM-DD : {}-{}-01\".format(year,month+1))\n",
        "elif ( date==28 and month==2 and year%4==0):\n",
        "   print (\"YYYY-MM-DD : {}-{}-29\".format(year,month))\n",
        "elif (date==28 and month==2):\n",
        "   print (\"YYYY-MM-DD : {}-03-01\".format(year))\n",
        "else :\n",
        "   print (\"YYYY-MM-DD : {}-{}-{}\".format(year,month,date+1))"
      ],
      "execution_count": null,
      "outputs": [
        {
          "output_type": "stream",
          "text": [
            "Enter year YYYY:-2020\n",
            "Enter month MM:-4\n",
            "Enter date DD:-15\n",
            "YYYY-MM-DD : 2020-4-16\n"
          ],
          "name": "stdout"
        }
      ]
    },
    {
      "cell_type": "code",
      "metadata": {
        "id": "pFG6RHUvrm7T",
        "colab_type": "code",
        "colab": {
          "base_uri": "https://localhost:8080/",
          "height": 35
        },
        "outputId": "b9d63cf2-ac56-4863-872d-f32412d2290d"
      },
      "source": [
        "#11:\n",
        "def product_num(n1,n2,n3,n4,n5,n6,n7,n8) :\n",
        "   return n1*n2*n3*n4*n5*n6*n7*n8\n",
        "product_num(45,3,2,89,72,1,10,7)"
      ],
      "execution_count": null,
      "outputs": [
        {
          "output_type": "execute_result",
          "data": {
            "text/plain": [
              "121111200"
            ]
          },
          "metadata": {
            "tags": []
          },
          "execution_count": 28
        }
      ]
    },
    {
      "cell_type": "code",
      "metadata": {
        "id": "PPOJR2o7stwx",
        "colab_type": "code",
        "colab": {
          "base_uri": "https://localhost:8080/",
          "height": 35
        },
        "outputId": "9f156cbf-607d-4d31-a12a-14fb9435e654"
      },
      "source": [
        "#12:\n",
        "def list(n1,n2,n3,n4,n5,n6):\n",
        "     return n1+n2,n2+n3,n3+n4,n4+n5,n5+n6\n",
        "list(5,6,8,34,89,1)"
      ],
      "execution_count": null,
      "outputs": [
        {
          "output_type": "execute_result",
          "data": {
            "text/plain": [
              "(11, 14, 42, 123, 90)"
            ]
          },
          "metadata": {
            "tags": []
          },
          "execution_count": 29
        }
      ]
    },
    {
      "cell_type": "code",
      "metadata": {
        "id": "92nxN15Jtebx",
        "colab_type": "code",
        "colab": {
          "base_uri": "https://localhost:8080/",
          "height": 35
        },
        "outputId": "45065c92-03fa-4282-a2ec-6964ffc3456f"
      },
      "source": [
        "#13:\n",
        "def list(n1,n2,n3,n4,n5,n6):\n",
        "     return n1,n1*n2,n1*n2*n3,n1*n2*n3*n4,n1*n2*n3*n4*n5,n1*n2*n3*n4*n5*n6\n",
        "list(5,6,8,3,9,1)"
      ],
      "execution_count": null,
      "outputs": [
        {
          "output_type": "execute_result",
          "data": {
            "text/plain": [
              "(5, 30, 240, 720, 6480, 6480)"
            ]
          },
          "metadata": {
            "tags": []
          },
          "execution_count": 30
        }
      ]
    },
    {
      "cell_type": "code",
      "metadata": {
        "id": "GvH6IqGpvoln",
        "colab_type": "code",
        "colab": {
          "base_uri": "https://localhost:8080/",
          "height": 52
        },
        "outputId": "ac3c2108-290e-40c8-b994-bcfd80649e35"
      },
      "source": [
        "#14:\n",
        "num=int(input(\"Enter a number :-\"))\n",
        "digits=[]\n",
        "for i in str(num):\n",
        "      digits. append(int(i)) \n",
        "print (digits)"
      ],
      "execution_count": null,
      "outputs": [
        {
          "output_type": "stream",
          "text": [
            "Enter a number :-586392\n",
            "[5, 8, 6, 3, 9, 2]\n"
          ],
          "name": "stdout"
        }
      ]
    },
    {
      "cell_type": "code",
      "metadata": {
        "id": "q325ASVswZJB",
        "colab_type": "code",
        "colab": {
          "base_uri": "https://localhost:8080/",
          "height": 52
        },
        "outputId": "9ecf4370-62ee-4677-f9f5-e541fb2fb61c"
      },
      "source": [
        "#15:\n",
        "q=input(\"Enter a palindrome \")\n",
        "str1=[]\n",
        "str2=[]\n",
        "index=0\n",
        "for i in range(0,len(q)-1):\n",
        "   for j in range(i+1,len(q)+1):\n",
        "       if j-i>1:\n",
        "          p=q[i:j]\n",
        "          if (p==p[::-1]):\n",
        "             str1.append(q[i:j])\n",
        "             str2.append(len(q[i:j]))\n",
        "maxi=max(str2)\n",
        "for i in str2:\n",
        "    if i==maxi:\n",
        "       print(str1[index])\n",
        "    else:\n",
        "       index=index+1"
      ],
      "execution_count": null,
      "outputs": [
        {
          "output_type": "stream",
          "text": [
            "Enter a palindrome refer\n",
            "refer\n"
          ],
          "name": "stdout"
        }
      ]
    },
    {
      "cell_type": "code",
      "metadata": {
        "id": "w4PB5hs-zvy8",
        "colab_type": "code",
        "colab": {
          "base_uri": "https://localhost:8080/",
          "height": 70
        },
        "outputId": "f9cda54e-087a-461e-a7c4-3cafd711ee14"
      },
      "source": [
        "#16:\n",
        "def string(list1,list2):\n",
        "    list1len=len(list1)\n",
        "    test=0\n",
        "    for i in range(0,list1len):\n",
        "        if list1[i:i+len(list2)]==list2:\n",
        "            test=1\n",
        "    return test\n",
        "a=input(\"Enter a binary number a: \")\n",
        "b=input(\"Enter another binary number b: \")\n",
        "if string(a,b):\n",
        "    print('1')\n",
        "else:\n",
        "    print('0')"
      ],
      "execution_count": null,
      "outputs": [
        {
          "output_type": "stream",
          "text": [
            "Enter a binary number a: 1010110010\n",
            "Enter another binary number b: 10110\n",
            "1\n"
          ],
          "name": "stdout"
        }
      ]
    },
    {
      "cell_type": "code",
      "metadata": {
        "id": "LSNZb6M807lr",
        "colab_type": "code",
        "colab": {}
      },
      "source": [
        ""
      ],
      "execution_count": null,
      "outputs": []
    }
  ]
}